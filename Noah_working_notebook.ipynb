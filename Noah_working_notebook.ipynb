{
 "cells": [
  {
   "cell_type": "code",
   "execution_count": 75,
   "metadata": {},
   "outputs": [],
   "source": [
    "import pandas as pd\n",
    "import numpy as np\n",
    "import seaborn as sns\n",
    "import matplotlib.pyplot as plt\n",
    "\n",
    "from sklearn.model_selection import train_test_split\n",
    "\n",
    "from env import get_db"
   ]
  },
  {
   "cell_type": "code",
   "execution_count": 25,
   "metadata": {},
   "outputs": [],
   "source": [
    "url = get_db('telco_churn')\n",
    "sql = \"\"\"\n",
    "SELECT * \n",
    "FROM customers\n",
    "JOIN contract_types USING (contract_type_id)\n",
    "JOIN payment_types USING (payment_type_id)\n",
    "JOIN internet_service_types USING (internet_service_type_id);\n",
    "\"\"\""
   ]
  },
  {
   "cell_type": "code",
   "execution_count": 26,
   "metadata": {},
   "outputs": [],
   "source": [
    "df = pd.read_sql(sql, url)"
   ]
  },
  {
   "cell_type": "code",
   "execution_count": 27,
   "metadata": {},
   "outputs": [
    {
     "data": {
      "text/html": [
       "<div>\n",
       "<style scoped>\n",
       "    .dataframe tbody tr th:only-of-type {\n",
       "        vertical-align: middle;\n",
       "    }\n",
       "\n",
       "    .dataframe tbody tr th {\n",
       "        vertical-align: top;\n",
       "    }\n",
       "\n",
       "    .dataframe thead th {\n",
       "        text-align: right;\n",
       "    }\n",
       "</style>\n",
       "<table border=\"1\" class=\"dataframe\">\n",
       "  <thead>\n",
       "    <tr style=\"text-align: right;\">\n",
       "      <th></th>\n",
       "      <th>internet_service_type_id</th>\n",
       "      <th>payment_type_id</th>\n",
       "      <th>contract_type_id</th>\n",
       "      <th>customer_id</th>\n",
       "      <th>gender</th>\n",
       "      <th>senior_citizen</th>\n",
       "      <th>partner</th>\n",
       "      <th>dependents</th>\n",
       "      <th>tenure</th>\n",
       "      <th>phone_service</th>\n",
       "      <th>...</th>\n",
       "      <th>tech_support</th>\n",
       "      <th>streaming_tv</th>\n",
       "      <th>streaming_movies</th>\n",
       "      <th>paperless_billing</th>\n",
       "      <th>monthly_charges</th>\n",
       "      <th>total_charges</th>\n",
       "      <th>churn</th>\n",
       "      <th>contract_type</th>\n",
       "      <th>payment_type</th>\n",
       "      <th>internet_service_type</th>\n",
       "    </tr>\n",
       "  </thead>\n",
       "  <tbody>\n",
       "    <tr>\n",
       "      <th>0</th>\n",
       "      <td>1</td>\n",
       "      <td>2</td>\n",
       "      <td>1</td>\n",
       "      <td>0003-MKNFE</td>\n",
       "      <td>Male</td>\n",
       "      <td>0</td>\n",
       "      <td>No</td>\n",
       "      <td>No</td>\n",
       "      <td>9</td>\n",
       "      <td>Yes</td>\n",
       "      <td>...</td>\n",
       "      <td>No</td>\n",
       "      <td>No</td>\n",
       "      <td>Yes</td>\n",
       "      <td>No</td>\n",
       "      <td>59.9</td>\n",
       "      <td>542.4</td>\n",
       "      <td>No</td>\n",
       "      <td>Month-to-month</td>\n",
       "      <td>Mailed check</td>\n",
       "      <td>DSL</td>\n",
       "    </tr>\n",
       "    <tr>\n",
       "      <th>1</th>\n",
       "      <td>1</td>\n",
       "      <td>4</td>\n",
       "      <td>1</td>\n",
       "      <td>0013-MHZWF</td>\n",
       "      <td>Female</td>\n",
       "      <td>0</td>\n",
       "      <td>No</td>\n",
       "      <td>Yes</td>\n",
       "      <td>9</td>\n",
       "      <td>Yes</td>\n",
       "      <td>...</td>\n",
       "      <td>Yes</td>\n",
       "      <td>Yes</td>\n",
       "      <td>Yes</td>\n",
       "      <td>Yes</td>\n",
       "      <td>69.4</td>\n",
       "      <td>571.45</td>\n",
       "      <td>No</td>\n",
       "      <td>Month-to-month</td>\n",
       "      <td>Credit card (automatic)</td>\n",
       "      <td>DSL</td>\n",
       "    </tr>\n",
       "    <tr>\n",
       "      <th>2</th>\n",
       "      <td>1</td>\n",
       "      <td>1</td>\n",
       "      <td>1</td>\n",
       "      <td>0015-UOCOJ</td>\n",
       "      <td>Female</td>\n",
       "      <td>1</td>\n",
       "      <td>No</td>\n",
       "      <td>No</td>\n",
       "      <td>7</td>\n",
       "      <td>Yes</td>\n",
       "      <td>...</td>\n",
       "      <td>No</td>\n",
       "      <td>No</td>\n",
       "      <td>No</td>\n",
       "      <td>Yes</td>\n",
       "      <td>48.2</td>\n",
       "      <td>340.35</td>\n",
       "      <td>No</td>\n",
       "      <td>Month-to-month</td>\n",
       "      <td>Electronic check</td>\n",
       "      <td>DSL</td>\n",
       "    </tr>\n",
       "    <tr>\n",
       "      <th>3</th>\n",
       "      <td>1</td>\n",
       "      <td>1</td>\n",
       "      <td>1</td>\n",
       "      <td>0023-HGHWL</td>\n",
       "      <td>Male</td>\n",
       "      <td>1</td>\n",
       "      <td>No</td>\n",
       "      <td>No</td>\n",
       "      <td>1</td>\n",
       "      <td>No</td>\n",
       "      <td>...</td>\n",
       "      <td>No</td>\n",
       "      <td>No</td>\n",
       "      <td>No</td>\n",
       "      <td>Yes</td>\n",
       "      <td>25.1</td>\n",
       "      <td>25.1</td>\n",
       "      <td>Yes</td>\n",
       "      <td>Month-to-month</td>\n",
       "      <td>Electronic check</td>\n",
       "      <td>DSL</td>\n",
       "    </tr>\n",
       "    <tr>\n",
       "      <th>4</th>\n",
       "      <td>1</td>\n",
       "      <td>3</td>\n",
       "      <td>1</td>\n",
       "      <td>0032-PGELS</td>\n",
       "      <td>Female</td>\n",
       "      <td>0</td>\n",
       "      <td>Yes</td>\n",
       "      <td>Yes</td>\n",
       "      <td>1</td>\n",
       "      <td>No</td>\n",
       "      <td>...</td>\n",
       "      <td>No</td>\n",
       "      <td>No</td>\n",
       "      <td>No</td>\n",
       "      <td>No</td>\n",
       "      <td>30.5</td>\n",
       "      <td>30.5</td>\n",
       "      <td>Yes</td>\n",
       "      <td>Month-to-month</td>\n",
       "      <td>Bank transfer (automatic)</td>\n",
       "      <td>DSL</td>\n",
       "    </tr>\n",
       "  </tbody>\n",
       "</table>\n",
       "<p>5 rows × 24 columns</p>\n",
       "</div>"
      ],
      "text/plain": [
       "   internet_service_type_id  payment_type_id  contract_type_id customer_id  \\\n",
       "0                         1                2                 1  0003-MKNFE   \n",
       "1                         1                4                 1  0013-MHZWF   \n",
       "2                         1                1                 1  0015-UOCOJ   \n",
       "3                         1                1                 1  0023-HGHWL   \n",
       "4                         1                3                 1  0032-PGELS   \n",
       "\n",
       "   gender  senior_citizen partner dependents  tenure phone_service  ...  \\\n",
       "0    Male               0      No         No       9           Yes  ...   \n",
       "1  Female               0      No        Yes       9           Yes  ...   \n",
       "2  Female               1      No         No       7           Yes  ...   \n",
       "3    Male               1      No         No       1            No  ...   \n",
       "4  Female               0     Yes        Yes       1            No  ...   \n",
       "\n",
       "  tech_support streaming_tv streaming_movies paperless_billing  \\\n",
       "0           No           No              Yes                No   \n",
       "1          Yes          Yes              Yes               Yes   \n",
       "2           No           No               No               Yes   \n",
       "3           No           No               No               Yes   \n",
       "4           No           No               No                No   \n",
       "\n",
       "  monthly_charges total_charges churn   contract_type  \\\n",
       "0            59.9         542.4    No  Month-to-month   \n",
       "1            69.4        571.45    No  Month-to-month   \n",
       "2            48.2        340.35    No  Month-to-month   \n",
       "3            25.1          25.1   Yes  Month-to-month   \n",
       "4            30.5          30.5   Yes  Month-to-month   \n",
       "\n",
       "                payment_type internet_service_type  \n",
       "0               Mailed check                   DSL  \n",
       "1    Credit card (automatic)                   DSL  \n",
       "2           Electronic check                   DSL  \n",
       "3           Electronic check                   DSL  \n",
       "4  Bank transfer (automatic)                   DSL  \n",
       "\n",
       "[5 rows x 24 columns]"
      ]
     },
     "execution_count": 27,
     "metadata": {},
     "output_type": "execute_result"
    }
   ],
   "source": [
    "df.head()"
   ]
  },
  {
   "cell_type": "code",
   "execution_count": 28,
   "metadata": {},
   "outputs": [
    {
     "name": "stdout",
     "output_type": "stream",
     "text": [
      "<class 'pandas.core.frame.DataFrame'>\n",
      "RangeIndex: 7043 entries, 0 to 7042\n",
      "Data columns (total 24 columns):\n",
      "internet_service_type_id    7043 non-null int64\n",
      "payment_type_id             7043 non-null int64\n",
      "contract_type_id            7043 non-null int64\n",
      "customer_id                 7043 non-null object\n",
      "gender                      7043 non-null object\n",
      "senior_citizen              7043 non-null int64\n",
      "partner                     7043 non-null object\n",
      "dependents                  7043 non-null object\n",
      "tenure                      7043 non-null int64\n",
      "phone_service               7043 non-null object\n",
      "multiple_lines              7043 non-null object\n",
      "online_security             7043 non-null object\n",
      "online_backup               7043 non-null object\n",
      "device_protection           7043 non-null object\n",
      "tech_support                7043 non-null object\n",
      "streaming_tv                7043 non-null object\n",
      "streaming_movies            7043 non-null object\n",
      "paperless_billing           7043 non-null object\n",
      "monthly_charges             7043 non-null float64\n",
      "total_charges               7043 non-null object\n",
      "churn                       7043 non-null object\n",
      "contract_type               7043 non-null object\n",
      "payment_type                7043 non-null object\n",
      "internet_service_type       7043 non-null object\n",
      "dtypes: float64(1), int64(5), object(18)\n",
      "memory usage: 1.3+ MB\n"
     ]
    }
   ],
   "source": [
    "df.info()"
   ]
  },
  {
   "cell_type": "markdown",
   "metadata": {},
   "source": [
    "Zero nulls\n",
    "Total charges is an object needs to be float\n",
    "Impute empty string in total charges by doing monthly * tenure"
   ]
  },
  {
   "cell_type": "code",
   "execution_count": 29,
   "metadata": {},
   "outputs": [
    {
     "data": {
      "text/plain": [
       "0        542.40\n",
       "1        571.45\n",
       "2        340.35\n",
       "3         25.10\n",
       "4         30.50\n",
       "         ...   \n",
       "7038     487.95\n",
       "7039    1559.30\n",
       "7040    1725.40\n",
       "7041    1372.90\n",
       "7042     856.50\n",
       "Name: total_charges, Length: 7043, dtype: float64"
      ]
     },
     "execution_count": 29,
     "metadata": {},
     "output_type": "execute_result"
    }
   ],
   "source": [
    "df.total_charges = df.total_charges.replace(\" \", df.tenure*df.monthly_charges)\n",
    "df.total_charges.astype(float)"
   ]
  },
  {
   "cell_type": "code",
   "execution_count": 30,
   "metadata": {},
   "outputs": [],
   "source": [
    "train, test = train_test_split(df, random_state = 123, train_size=.8)\n",
    "train, validate = train_test_split(train, random_state=123, train_size=.75)"
   ]
  },
  {
   "cell_type": "code",
   "execution_count": 31,
   "metadata": {},
   "outputs": [
    {
     "data": {
      "text/plain": [
       "((4225, 24), (1409, 24), (1409, 24))"
      ]
     },
     "execution_count": 31,
     "metadata": {},
     "output_type": "execute_result"
    }
   ],
   "source": [
    "train.shape, test.shape, validate.shape"
   ]
  },
  {
   "cell_type": "code",
   "execution_count": 40,
   "metadata": {},
   "outputs": [],
   "source": [
    "train['is_churn'] = (train.churn == \"Yes\")"
   ]
  },
  {
   "cell_type": "code",
   "execution_count": 41,
   "metadata": {},
   "outputs": [
    {
     "data": {
      "text/plain": [
       "0.2672189349112426"
      ]
     },
     "execution_count": 41,
     "metadata": {},
     "output_type": "execute_result"
    }
   ],
   "source": [
    "train.is_churn.mean()"
   ]
  },
  {
   "cell_type": "code",
   "execution_count": 42,
   "metadata": {},
   "outputs": [
    {
     "data": {
      "text/html": [
       "<div>\n",
       "<style scoped>\n",
       "    .dataframe tbody tr th:only-of-type {\n",
       "        vertical-align: middle;\n",
       "    }\n",
       "\n",
       "    .dataframe tbody tr th {\n",
       "        vertical-align: top;\n",
       "    }\n",
       "\n",
       "    .dataframe thead th {\n",
       "        text-align: right;\n",
       "    }\n",
       "</style>\n",
       "<table border=\"1\" class=\"dataframe\">\n",
       "  <thead>\n",
       "    <tr style=\"text-align: right;\">\n",
       "      <th></th>\n",
       "      <th>internet_service_type_id</th>\n",
       "      <th>payment_type_id</th>\n",
       "      <th>contract_type_id</th>\n",
       "      <th>senior_citizen</th>\n",
       "      <th>tenure</th>\n",
       "      <th>monthly_charges</th>\n",
       "      <th>is_churn</th>\n",
       "    </tr>\n",
       "    <tr>\n",
       "      <th>contract_type</th>\n",
       "      <th></th>\n",
       "      <th></th>\n",
       "      <th></th>\n",
       "      <th></th>\n",
       "      <th></th>\n",
       "      <th></th>\n",
       "      <th></th>\n",
       "    </tr>\n",
       "  </thead>\n",
       "  <tbody>\n",
       "    <tr>\n",
       "      <th>Month-to-month</th>\n",
       "      <td>1.820436</td>\n",
       "      <td>1.934587</td>\n",
       "      <td>1.0</td>\n",
       "      <td>0.209919</td>\n",
       "      <td>17.410859</td>\n",
       "      <td>66.024348</td>\n",
       "      <td>0.426251</td>\n",
       "    </tr>\n",
       "    <tr>\n",
       "      <th>One year</th>\n",
       "      <td>1.869266</td>\n",
       "      <td>2.567661</td>\n",
       "      <td>2.0</td>\n",
       "      <td>0.136468</td>\n",
       "      <td>41.622706</td>\n",
       "      <td>64.971961</td>\n",
       "      <td>0.114679</td>\n",
       "    </tr>\n",
       "    <tr>\n",
       "      <th>Two year</th>\n",
       "      <td>1.985207</td>\n",
       "      <td>2.904339</td>\n",
       "      <td>3.0</td>\n",
       "      <td>0.089744</td>\n",
       "      <td>57.054241</td>\n",
       "      <td>61.460552</td>\n",
       "      <td>0.031558</td>\n",
       "    </tr>\n",
       "  </tbody>\n",
       "</table>\n",
       "</div>"
      ],
      "text/plain": [
       "                internet_service_type_id  payment_type_id  contract_type_id  \\\n",
       "contract_type                                                                 \n",
       "Month-to-month                  1.820436         1.934587               1.0   \n",
       "One year                        1.869266         2.567661               2.0   \n",
       "Two year                        1.985207         2.904339               3.0   \n",
       "\n",
       "                senior_citizen     tenure  monthly_charges  is_churn  \n",
       "contract_type                                                         \n",
       "Month-to-month        0.209919  17.410859        66.024348  0.426251  \n",
       "One year              0.136468  41.622706        64.971961  0.114679  \n",
       "Two year              0.089744  57.054241        61.460552  0.031558  "
      ]
     },
     "execution_count": 42,
     "metadata": {},
     "output_type": "execute_result"
    }
   ],
   "source": [
    "train.groupby(train.contract_type).mean()"
   ]
  },
  {
   "cell_type": "code",
   "execution_count": 48,
   "metadata": {},
   "outputs": [],
   "source": [
    "def groupby_churn():\n",
    "    for c in train.columns:\n",
    "        print(train.groupby(train[c]).mean())"
   ]
  },
  {
   "cell_type": "code",
   "execution_count": null,
   "metadata": {},
   "outputs": [],
   "source": []
  },
  {
   "cell_type": "code",
   "execution_count": 74,
   "metadata": {},
   "outputs": [],
   "source": [
    "def groupby_churn(train):\n",
    "    for c in train.columns:\n",
    "        if len(train.groupby(train[c])) < 5:\n",
    "            print(train.groupby(train[c]).is_churn.mean())\n",
    "            print()"
   ]
  },
  {
   "cell_type": "code",
   "execution_count": 73,
   "metadata": {
    "scrolled": false
   },
   "outputs": [
    {
     "name": "stdout",
     "output_type": "stream",
     "text": [
      "internet_service_type_id\n",
      "1    0.191884\n",
      "2    0.416935\n",
      "3    0.079558\n",
      "Name: is_churn, dtype: float64\n",
      "\n",
      "payment_type_id\n",
      "1    0.445964\n",
      "2    0.203141\n",
      "3    0.163128\n",
      "4    0.150055\n",
      "Name: is_churn, dtype: float64\n",
      "\n",
      "contract_type_id\n",
      "1    0.426251\n",
      "2    0.114679\n",
      "3    0.031558\n",
      "Name: is_churn, dtype: float64\n",
      "\n",
      "gender\n",
      "Female    0.276676\n",
      "Male      0.257712\n",
      "Name: is_churn, dtype: float64\n",
      "\n",
      "senior_citizen\n",
      "0    0.239501\n",
      "1    0.406562\n",
      "Name: is_churn, dtype: float64\n",
      "\n",
      "partner\n",
      "No     0.330616\n",
      "Yes    0.197819\n",
      "Name: is_churn, dtype: float64\n",
      "\n",
      "dependents\n",
      "No     0.315877\n",
      "Yes    0.148329\n",
      "Name: is_churn, dtype: float64\n",
      "\n",
      "phone_service\n",
      "No     0.239024\n",
      "Yes    0.270249\n",
      "Name: is_churn, dtype: float64\n",
      "\n",
      "multiple_lines\n",
      "No                  0.255403\n",
      "No phone service    0.239024\n",
      "Yes                 0.287240\n",
      "Name: is_churn, dtype: float64\n",
      "\n",
      "online_security\n",
      "No                     0.415174\n",
      "No internet service    0.079558\n",
      "Yes                    0.146912\n",
      "Name: is_churn, dtype: float64\n",
      "\n",
      "online_backup\n",
      "No                     0.404278\n",
      "No internet service    0.079558\n",
      "Yes                    0.207586\n",
      "Name: is_churn, dtype: float64\n",
      "\n",
      "device_protection\n",
      "No                     0.386702\n",
      "No internet service    0.079558\n",
      "Yes                    0.229167\n",
      "Name: is_churn, dtype: float64\n",
      "\n",
      "tech_support\n",
      "No                     0.408318\n",
      "No internet service    0.079558\n",
      "Yes                    0.160299\n",
      "Name: is_churn, dtype: float64\n",
      "\n",
      "streaming_tv\n",
      "No                     0.334299\n",
      "No internet service    0.079558\n",
      "Yes                    0.301129\n",
      "Name: is_churn, dtype: float64\n",
      "\n",
      "streaming_movies\n",
      "No                     0.338872\n",
      "No internet service    0.079558\n",
      "Yes                    0.297248\n",
      "Name: is_churn, dtype: float64\n",
      "\n",
      "paperless_billing\n",
      "No     0.159506\n",
      "Yes    0.339667\n",
      "Name: is_churn, dtype: float64\n",
      "\n",
      "churn\n",
      "No     False\n",
      "Yes     True\n",
      "Name: is_churn, dtype: bool\n",
      "\n",
      "contract_type\n",
      "Month-to-month    0.426251\n",
      "One year          0.114679\n",
      "Two year          0.031558\n",
      "Name: is_churn, dtype: float64\n",
      "\n",
      "payment_type\n",
      "Bank transfer (automatic)    0.163128\n",
      "Credit card (automatic)      0.150055\n",
      "Electronic check             0.445964\n",
      "Mailed check                 0.203141\n",
      "Name: is_churn, dtype: float64\n",
      "\n",
      "internet_service_type\n",
      "DSL            0.191884\n",
      "Fiber optic    0.416935\n",
      "None           0.079558\n",
      "Name: is_churn, dtype: float64\n",
      "\n",
      "is_churn\n",
      "False    False\n",
      "True      True\n",
      "Name: is_churn, dtype: bool\n",
      "\n"
     ]
    }
   ],
   "source": [
    "groupby_churn(train)"
   ]
  },
  {
   "cell_type": "code",
   "execution_count": 115,
   "metadata": {},
   "outputs": [
    {
     "data": {
      "text/plain": [
       "<matplotlib.axes._subplots.AxesSubplot at 0x129f1fe90>"
      ]
     },
     "execution_count": 115,
     "metadata": {},
     "output_type": "execute_result"
    },
    {
     "data": {
      "image/png": "[encoded data removed]",
      "text/plain": [
       "<Figure size 1152x432 with 1 Axes>"
      ]
     },
     "metadata": {
      "needs_background": "light"
     },
     "output_type": "display_data"
    }
   ],
   "source": [
    "x = train.tenure\n",
    "y = train.groupby(train.tenure).is_churn.sum()\n",
    "y1 = train[train.contract_type == 'Month-to-month'].groupby(train.tenure).is_churn.sum()\n",
    "y2 = train[train.contract_type == 'One year'].groupby(train.tenure).is_churn.sum()\n",
    "y3 = train[train.contract_type == 'Two year'].groupby(train.tenure).is_churn.sum()\n",
    "\n",
    "plt.figure(figsize=(16,6))\n",
    "plt.legend\n",
    "sns.lineplot(x, y, data=train, ci=None)\n",
    "sns.lineplot(x, y1, data=train, ci=None)\n",
    "sns.lineplot(x, y2, data=train, ci=None)\n",
    "sns.lineplot(x, y3, data=train, ci=None)"
   ]
  },
  {
   "cell_type": "code",
   "execution_count": 86,
   "metadata": {},
   "outputs": [
    {
     "data": {
      "text/plain": [
       "<matplotlib.axes._subplots.AxesSubplot at 0x128432590>"
      ]
     },
     "execution_count": 86,
     "metadata": {},
     "output_type": "execute_result"
    },
    {
     "data": {
      "image/png": "[encoded data removed]",
      "text/plain": [
       "<Figure size 1152x432 with 1 Axes>"
      ]
     },
     "metadata": {
      "needs_background": "light"
     },
     "output_type": "display_data"
    }
   ],
   "source": [
    "plt.figure(figsize=(16,6))\n",
    "sns.lineplot('tenure', 'is_churn', hue='contract_type', data=train, ci=None)"
   ]
  },
  {
   "cell_type": "code",
   "execution_count": 103,
   "metadata": {},
   "outputs": [
    {
     "data": {
      "text/plain": [
       "30"
      ]
     },
     "execution_count": 103,
     "metadata": {},
     "output_type": "execute_result"
    }
   ],
   "source": [
    "train[train.tenure == 10].is_churn.sum()"
   ]
  },
  {
   "cell_type": "code",
   "execution_count": 106,
   "metadata": {},
   "outputs": [
    {
     "data": {
      "text/plain": [
       "1     380\n",
       "72    218\n",
       "2     151\n",
       "3     125\n",
       "4     113\n",
       "     ... \n",
       "57     29\n",
       "36     28\n",
       "39     26\n",
       "44     25\n",
       "0      10\n",
       "Name: tenure, Length: 73, dtype: int64"
      ]
     },
     "execution_count": 106,
     "metadata": {},
     "output_type": "execute_result"
    }
   ],
   "source": [
    "train.tenure.value_counts()"
   ]
  },
  {
   "cell_type": "code",
   "execution_count": 116,
   "metadata": {},
   "outputs": [
    {
     "data": {
      "text/plain": [
       "tenure  is_churn\n",
       "1       True        229\n",
       "72      False       213\n",
       "1       False       151\n",
       "71      False       102\n",
       "2       False        76\n",
       "        True         75\n",
       "70      False        73\n",
       "3       False        69\n",
       "4       False        62\n",
       "3       True         56\n",
       "68      False        56\n",
       "67      False        52\n",
       "4       True         51\n",
       "8       False        51\n",
       "12      False        50\n",
       "26      False        49\n",
       "22      False        49\n",
       "64      False        48\n",
       "60      False        47\n",
       "66      False        47\n",
       "Name: is_churn, dtype: int64"
      ]
     },
     "execution_count": 116,
     "metadata": {},
     "output_type": "execute_result"
    }
   ],
   "source": [
    "train.groupby(\"tenure\").is_churn.value_counts().sort_values(ascending=False).head(20)\n"
   ]
  },
  {
   "cell_type": "code",
   "execution_count": 108,
   "metadata": {},
   "outputs": [
    {
     "data": {
      "text/plain": [
       "1129"
      ]
     },
     "execution_count": 108,
     "metadata": {},
     "output_type": "execute_result"
    }
   ],
   "source": [
    "train.is_churn.sum()"
   ]
  },
  {
   "cell_type": "code",
   "execution_count": 114,
   "metadata": {},
   "outputs": [
    {
     "data": {
      "text/plain": [
       "75"
      ]
     },
     "execution_count": 114,
     "metadata": {},
     "output_type": "execute_result"
    }
   ],
   "source": [
    "train[train.tenure == 2].is_churn.sum()"
   ]
  },
  {
   "cell_type": "code",
   "execution_count": null,
   "metadata": {},
   "outputs": [],
   "source": []
  }
 ],
 "metadata": {
  "kernelspec": {
   "display_name": "Python 3",
   "language": "python",
   "name": "python3"
  },
  "language_info": {
   "codemirror_mode": {
    "name": "ipython",
    "version": 3
   },
   "file_extension": ".py",
   "mimetype": "text/x-python",
   "name": "python",
   "nbconvert_exporter": "python",
   "pygments_lexer": "ipython3",
   "version": "3.7.4"
  }
 },
 "nbformat": 4,
 "nbformat_minor": 2
}
