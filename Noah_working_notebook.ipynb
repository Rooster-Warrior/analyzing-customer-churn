{
 "cells": [
  {
   "cell_type": "code",
   "execution_count": 1,
   "metadata": {},
   "outputs": [],
   "source": [
    "import pandas as pd\n",
    "import numpy as np\n",
    "import seaborn as sns\n",
    "import matplotlib.pyplot as plt\n",
    "\n",
    "from sklearn.model_selection import train_test_split\n",
    "\n",
    "from env import get_db"
   ]
  },
  {
   "cell_type": "code",
   "execution_count": 2,
   "metadata": {},
   "outputs": [],
   "source": [
    "url = get_db('telco_churn')\n",
    "sql = \"\"\"\n",
    "SELECT * \n",
    "FROM customers\n",
    "JOIN contract_types USING (contract_type_id)\n",
    "JOIN payment_types USING (payment_type_id)\n",
    "JOIN internet_service_types USING (internet_service_type_id);\n",
    "\"\"\""
   ]
  },
  {
   "cell_type": "code",
   "execution_count": 3,
   "metadata": {},
   "outputs": [],
   "source": [
    "df = pd.read_sql(sql, url)"
   ]
  },
  {
   "cell_type": "code",
   "execution_count": 4,
   "metadata": {},
   "outputs": [
    {
     "data": {
      "text/html": [
       "<div>\n",
       "<style scoped>\n",
       "    .dataframe tbody tr th:only-of-type {\n",
       "        vertical-align: middle;\n",
       "    }\n",
       "\n",
       "    .dataframe tbody tr th {\n",
       "        vertical-align: top;\n",
       "    }\n",
       "\n",
       "    .dataframe thead th {\n",
       "        text-align: right;\n",
       "    }\n",
       "</style>\n",
       "<table border=\"1\" class=\"dataframe\">\n",
       "  <thead>\n",
       "    <tr style=\"text-align: right;\">\n",
       "      <th></th>\n",
       "      <th>internet_service_type_id</th>\n",
       "      <th>payment_type_id</th>\n",
       "      <th>contract_type_id</th>\n",
       "      <th>customer_id</th>\n",
       "      <th>gender</th>\n",
       "      <th>senior_citizen</th>\n",
       "      <th>partner</th>\n",
       "      <th>dependents</th>\n",
       "      <th>tenure</th>\n",
       "      <th>phone_service</th>\n",
       "      <th>...</th>\n",
       "      <th>tech_support</th>\n",
       "      <th>streaming_tv</th>\n",
       "      <th>streaming_movies</th>\n",
       "      <th>paperless_billing</th>\n",
       "      <th>monthly_charges</th>\n",
       "      <th>total_charges</th>\n",
       "      <th>churn</th>\n",
       "      <th>contract_type</th>\n",
       "      <th>payment_type</th>\n",
       "      <th>internet_service_type</th>\n",
       "    </tr>\n",
       "  </thead>\n",
       "  <tbody>\n",
       "    <tr>\n",
       "      <th>0</th>\n",
       "      <td>1</td>\n",
       "      <td>2</td>\n",
       "      <td>1</td>\n",
       "      <td>0003-MKNFE</td>\n",
       "      <td>Male</td>\n",
       "      <td>0</td>\n",
       "      <td>No</td>\n",
       "      <td>No</td>\n",
       "      <td>9</td>\n",
       "      <td>Yes</td>\n",
       "      <td>...</td>\n",
       "      <td>No</td>\n",
       "      <td>No</td>\n",
       "      <td>Yes</td>\n",
       "      <td>No</td>\n",
       "      <td>59.9</td>\n",
       "      <td>542.4</td>\n",
       "      <td>No</td>\n",
       "      <td>Month-to-month</td>\n",
       "      <td>Mailed check</td>\n",
       "      <td>DSL</td>\n",
       "    </tr>\n",
       "    <tr>\n",
       "      <th>1</th>\n",
       "      <td>1</td>\n",
       "      <td>4</td>\n",
       "      <td>1</td>\n",
       "      <td>0013-MHZWF</td>\n",
       "      <td>Female</td>\n",
       "      <td>0</td>\n",
       "      <td>No</td>\n",
       "      <td>Yes</td>\n",
       "      <td>9</td>\n",
       "      <td>Yes</td>\n",
       "      <td>...</td>\n",
       "      <td>Yes</td>\n",
       "      <td>Yes</td>\n",
       "      <td>Yes</td>\n",
       "      <td>Yes</td>\n",
       "      <td>69.4</td>\n",
       "      <td>571.45</td>\n",
       "      <td>No</td>\n",
       "      <td>Month-to-month</td>\n",
       "      <td>Credit card (automatic)</td>\n",
       "      <td>DSL</td>\n",
       "    </tr>\n",
       "    <tr>\n",
       "      <th>2</th>\n",
       "      <td>1</td>\n",
       "      <td>1</td>\n",
       "      <td>1</td>\n",
       "      <td>0015-UOCOJ</td>\n",
       "      <td>Female</td>\n",
       "      <td>1</td>\n",
       "      <td>No</td>\n",
       "      <td>No</td>\n",
       "      <td>7</td>\n",
       "      <td>Yes</td>\n",
       "      <td>...</td>\n",
       "      <td>No</td>\n",
       "      <td>No</td>\n",
       "      <td>No</td>\n",
       "      <td>Yes</td>\n",
       "      <td>48.2</td>\n",
       "      <td>340.35</td>\n",
       "      <td>No</td>\n",
       "      <td>Month-to-month</td>\n",
       "      <td>Electronic check</td>\n",
       "      <td>DSL</td>\n",
       "    </tr>\n",
       "    <tr>\n",
       "      <th>3</th>\n",
       "      <td>1</td>\n",
       "      <td>1</td>\n",
       "      <td>1</td>\n",
       "      <td>0023-HGHWL</td>\n",
       "      <td>Male</td>\n",
       "      <td>1</td>\n",
       "      <td>No</td>\n",
       "      <td>No</td>\n",
       "      <td>1</td>\n",
       "      <td>No</td>\n",
       "      <td>...</td>\n",
       "      <td>No</td>\n",
       "      <td>No</td>\n",
       "      <td>No</td>\n",
       "      <td>Yes</td>\n",
       "      <td>25.1</td>\n",
       "      <td>25.1</td>\n",
       "      <td>Yes</td>\n",
       "      <td>Month-to-month</td>\n",
       "      <td>Electronic check</td>\n",
       "      <td>DSL</td>\n",
       "    </tr>\n",
       "    <tr>\n",
       "      <th>4</th>\n",
       "      <td>1</td>\n",
       "      <td>3</td>\n",
       "      <td>1</td>\n",
       "      <td>0032-PGELS</td>\n",
       "      <td>Female</td>\n",
       "      <td>0</td>\n",
       "      <td>Yes</td>\n",
       "      <td>Yes</td>\n",
       "      <td>1</td>\n",
       "      <td>No</td>\n",
       "      <td>...</td>\n",
       "      <td>No</td>\n",
       "      <td>No</td>\n",
       "      <td>No</td>\n",
       "      <td>No</td>\n",
       "      <td>30.5</td>\n",
       "      <td>30.5</td>\n",
       "      <td>Yes</td>\n",
       "      <td>Month-to-month</td>\n",
       "      <td>Bank transfer (automatic)</td>\n",
       "      <td>DSL</td>\n",
       "    </tr>\n",
       "  </tbody>\n",
       "</table>\n",
       "<p>5 rows × 24 columns</p>\n",
       "</div>"
      ],
      "text/plain": [
       "   internet_service_type_id  payment_type_id  contract_type_id customer_id  \\\n",
       "0                         1                2                 1  0003-MKNFE   \n",
       "1                         1                4                 1  0013-MHZWF   \n",
       "2                         1                1                 1  0015-UOCOJ   \n",
       "3                         1                1                 1  0023-HGHWL   \n",
       "4                         1                3                 1  0032-PGELS   \n",
       "\n",
       "   gender  senior_citizen partner dependents  tenure phone_service  ...  \\\n",
       "0    Male               0      No         No       9           Yes  ...   \n",
       "1  Female               0      No        Yes       9           Yes  ...   \n",
       "2  Female               1      No         No       7           Yes  ...   \n",
       "3    Male               1      No         No       1            No  ...   \n",
       "4  Female               0     Yes        Yes       1            No  ...   \n",
       "\n",
       "  tech_support streaming_tv streaming_movies paperless_billing  \\\n",
       "0           No           No              Yes                No   \n",
       "1          Yes          Yes              Yes               Yes   \n",
       "2           No           No               No               Yes   \n",
       "3           No           No               No               Yes   \n",
       "4           No           No               No                No   \n",
       "\n",
       "  monthly_charges total_charges churn   contract_type  \\\n",
       "0            59.9         542.4    No  Month-to-month   \n",
       "1            69.4        571.45    No  Month-to-month   \n",
       "2            48.2        340.35    No  Month-to-month   \n",
       "3            25.1          25.1   Yes  Month-to-month   \n",
       "4            30.5          30.5   Yes  Month-to-month   \n",
       "\n",
       "                payment_type internet_service_type  \n",
       "0               Mailed check                   DSL  \n",
       "1    Credit card (automatic)                   DSL  \n",
       "2           Electronic check                   DSL  \n",
       "3           Electronic check                   DSL  \n",
       "4  Bank transfer (automatic)                   DSL  \n",
       "\n",
       "[5 rows x 24 columns]"
      ]
     },
     "execution_count": 4,
     "metadata": {},
     "output_type": "execute_result"
    }
   ],
   "source": [
    "df.head()"
   ]
  },
  {
   "cell_type": "code",
   "execution_count": null,
   "metadata": {},
   "outputs": [],
   "source": [
    "df.info()"
   ]
  },
  {
   "cell_type": "markdown",
   "metadata": {},
   "source": [
    "Zero nulls\n",
    "Total charges is an object needs to be float\n",
    "Impute empty string in total charges by doing monthly * tenure"
   ]
  },
  {
   "cell_type": "code",
   "execution_count": 10,
   "metadata": {},
   "outputs": [],
   "source": [
    "df.total_charges = df.total_charges.replace(\" \", df.tenure*df.monthly_charges)\n",
    "df.total_charges = df.total_charges.astype(float)"
   ]
  },
  {
   "cell_type": "code",
   "execution_count": 11,
   "metadata": {},
   "outputs": [],
   "source": [
    "train, test = train_test_split(df, random_state = 123, train_size=.8)\n",
    "train, validate = train_test_split(train, random_state=123, train_size=.75)"
   ]
  },
  {
   "cell_type": "code",
   "execution_count": null,
   "metadata": {},
   "outputs": [],
   "source": [
    "train.shape, test.shape, validate.shape"
   ]
  },
  {
   "cell_type": "code",
   "execution_count": 16,
   "metadata": {},
   "outputs": [],
   "source": [
    "train['is_churn'] = (train.churn == \"Yes\")"
   ]
  },
  {
   "cell_type": "code",
   "execution_count": 17,
   "metadata": {},
   "outputs": [
    {
     "data": {
      "text/plain": [
       "0.2672189349112426"
      ]
     },
     "execution_count": 17,
     "metadata": {},
     "output_type": "execute_result"
    }
   ],
   "source": [
    "train.is_churn.mean()"
   ]
  },
  {
   "cell_type": "code",
   "execution_count": null,
   "metadata": {},
   "outputs": [],
   "source": [
    "train.groupby(train.contract_type).mean()"
   ]
  },
  {
   "cell_type": "code",
   "execution_count": null,
   "metadata": {},
   "outputs": [],
   "source": [
    "def groupby_churn():\n",
    "    for c in train.columns:\n",
    "        print(train.groupby(train[c]).mean())"
   ]
  },
  {
   "cell_type": "code",
   "execution_count": null,
   "metadata": {},
   "outputs": [],
   "source": []
  },
  {
   "cell_type": "code",
   "execution_count": null,
   "metadata": {},
   "outputs": [],
   "source": [
    "def groupby_churn(train):\n",
    "    for c in train.columns:\n",
    "        if len(train.groupby(train[c])) < 5:\n",
    "            print(train.groupby(train[c]).is_churn.mean())\n",
    "            print()"
   ]
  },
  {
   "cell_type": "code",
   "execution_count": null,
   "metadata": {
    "scrolled": false
   },
   "outputs": [],
   "source": [
    "groupby_churn(train)"
   ]
  },
  {
   "cell_type": "code",
   "execution_count": null,
   "metadata": {},
   "outputs": [],
   "source": [
    "x = train.tenure\n",
    "y = train.groupby(train.tenure).is_churn.sum()\n",
    "y1 = train[train.contract_type == 'Month-to-month'].groupby(train.tenure).is_churn.sum()\n",
    "y2 = train[train.contract_type == 'One year'].groupby(train.tenure).is_churn.sum()\n",
    "y3 = train[train.contract_type == 'Two year'].groupby(train.tenure).is_churn.sum()\n",
    "\n",
    "plt.figure(figsize=(16,6))\n",
    "plt.legend\n",
    "sns.lineplot(x, y, data=train, ci=None)\n",
    "sns.lineplot(x, y1, data=train, ci=None)\n",
    "sns.lineplot(x, y2, data=train, ci=None)\n",
    "sns.lineplot(x, y3, data=train, ci=None)"
   ]
  },
  {
   "cell_type": "code",
   "execution_count": null,
   "metadata": {},
   "outputs": [],
   "source": [
    "plt.figure(figsize=(16,6))\n",
    "sns.lineplot('tenure', 'is_churn', hue='contract_type', data=train, ci=None)"
   ]
  },
  {
   "cell_type": "code",
   "execution_count": null,
   "metadata": {},
   "outputs": [],
   "source": [
    "train[train.tenure == 10].is_churn.sum()"
   ]
  },
  {
   "cell_type": "code",
   "execution_count": null,
   "metadata": {},
   "outputs": [],
   "source": [
    "train.tenure.value_counts()"
   ]
  },
  {
   "cell_type": "code",
   "execution_count": null,
   "metadata": {},
   "outputs": [],
   "source": [
    "train.groupby(\"tenure\").is_churn.value_counts().sort_values(ascending=False).head(20)\n"
   ]
  },
  {
   "cell_type": "code",
   "execution_count": null,
   "metadata": {},
   "outputs": [],
   "source": [
    "train.is_churn.sum()"
   ]
  },
  {
   "cell_type": "code",
   "execution_count": null,
   "metadata": {},
   "outputs": [],
   "source": [
    "train[train.tenure == 2].is_churn.sum()"
   ]
  },
  {
   "cell_type": "code",
   "execution_count": null,
   "metadata": {},
   "outputs": [],
   "source": [
    "f = plt.figure(figsize=(25,20))\n",
    "for i in range(0,20):\n",
    "    if len(train.groupby(train.iloc[:,i])) < 5:\n",
    "        f.add_subplot(5,4, i+1)\n",
    "        sns.barplot(data=train, y=\"is_churn\", x=train.iloc[:,i])\n",
    "        plt.title(train.columns[i])\n",
    "plt.tight_layout()\n",
    "plt.show()"
   ]
  },
  {
   "cell_type": "code",
   "execution_count": null,
   "metadata": {},
   "outputs": [],
   "source": [
    "train.head()"
   ]
  },
  {
   "cell_type": "code",
   "execution_count": 5,
   "metadata": {},
   "outputs": [],
   "source": [
    "def encode_all(train):\n",
    "    \"\"\"encodes all Yes values to 1, No values to 0, Female to 1 and Male to 0\n",
    "    then turns encode columns into integers\"\"\"\n",
    "#     train = train.copy()\n",
    "    train = train.replace({\"Yes\": 1,\n",
    "                          \"No\": 0,\n",
    "                           \"No internet service\": 2,\n",
    "                           \"No phone service\": 2\n",
    "    })\n",
    "    for c in train.columns:\n",
    "        if train.dependents.value_counts().index == ['No', 'Yes']:\n",
    "            train[c] = train[c].astype(int)\n",
    "    train = train.replace({\"Female\": 1,\n",
    "                           \"Male\": 0  \n",
    "    })\n",
    "    return train"
   ]
  },
  {
   "cell_type": "code",
   "execution_count": 8,
   "metadata": {},
   "outputs": [
    {
     "name": "stderr",
     "output_type": "stream",
     "text": [
      "/usr/local/anaconda3/lib/python3.7/site-packages/pandas/core/indexes/base.py:111: FutureWarning: elementwise comparison failed; returning scalar instead, but in the future will perform elementwise comparison\n",
      "  result = op(self.values, np.asarray(other))\n"
     ]
    }
   ],
   "source": [
    "train = encode_all(train)"
   ]
  },
  {
   "cell_type": "code",
   "execution_count": 9,
   "metadata": {},
   "outputs": [
    {
     "name": "stdout",
     "output_type": "stream",
     "text": [
      "<class 'pandas.core.frame.DataFrame'>\n",
      "Int64Index: 4225 entries, 440 to 6958\n",
      "Data columns (total 24 columns):\n",
      "internet_service_type_id    4225 non-null int64\n",
      "payment_type_id             4225 non-null int64\n",
      "contract_type_id            4225 non-null int64\n",
      "customer_id                 4225 non-null object\n",
      "gender                      4225 non-null int64\n",
      "senior_citizen              4225 non-null int64\n",
      "partner                     4225 non-null int64\n",
      "dependents                  4225 non-null int64\n",
      "tenure                      4225 non-null int64\n",
      "phone_service               4225 non-null int64\n",
      "multiple_lines              4225 non-null int64\n",
      "online_security             4225 non-null int64\n",
      "online_backup               4225 non-null int64\n",
      "device_protection           4225 non-null int64\n",
      "tech_support                4225 non-null int64\n",
      "streaming_tv                4225 non-null int64\n",
      "streaming_movies            4225 non-null int64\n",
      "paperless_billing           4225 non-null int64\n",
      "monthly_charges             4225 non-null float64\n",
      "total_charges               4225 non-null object\n",
      "churn                       4225 non-null int64\n",
      "contract_type               4225 non-null object\n",
      "payment_type                4225 non-null object\n",
      "internet_service_type       4225 non-null object\n",
      "dtypes: float64(1), int64(18), object(5)\n",
      "memory usage: 825.2+ KB\n"
     ]
    }
   ],
   "source": [
    "\n",
    "train.info()"
   ]
  },
  {
   "cell_type": "code",
   "execution_count": null,
   "metadata": {},
   "outputs": [],
   "source": [
    "train.senior_citizen.astype(int)"
   ]
  },
  {
   "cell_type": "code",
   "execution_count": null,
   "metadata": {},
   "outputs": [],
   "source": [
    "train.tenure.max()"
   ]
  },
  {
   "cell_type": "code",
   "execution_count": null,
   "metadata": {},
   "outputs": [],
   "source": [
    "contract = train.contract_type == \"Month-to-month\"\n",
    "tenure = train.tenure <= 12\n",
    "train[tenure & contract].is_churn.mean()"
   ]
  },
  {
   "cell_type": "code",
   "execution_count": null,
   "metadata": {},
   "outputs": [],
   "source": []
  },
  {
   "cell_type": "markdown",
   "metadata": {},
   "source": [
    "$churn\\_rate = \\frac{(n\\_users_0 - n\\_users_n)}{n_users_0}$\n",
    "$for \\  _n \\ months$"
   ]
  },
  {
   "cell_type": "markdown",
   "metadata": {},
   "source": [
    "$Churn rate = \\frac{(n\\ users\\ at\\ beginning\\ of\\ period\\ - n\\ users\\ at\\ end\\ period)}{users\\ at\\ beggining\\ period}$"
   ]
  },
  {
   "cell_type": "code",
   "execution_count": null,
   "metadata": {},
   "outputs": [],
   "source": [
    "train[train.online_security == 2].internet_service_type.value_counts()"
   ]
  },
  {
   "cell_type": "code",
   "execution_count": 12,
   "metadata": {},
   "outputs": [],
   "source": [
    "# We had two options to deal with categorical data that had a n/a result (no phone service or no internet service), we chose to encode this as a seperate option (value=2) rather than lump in with other negative i.e. \"No\" values.\n",
    "#  This could have implications when we are modeling because there is no value relationship between the integers used (e.g. 2 is not more than 1)\n",
    "\n",
    "\n",
    "def encode_all(df):\n",
    "    \"\"\"encodes all Yes values to 1, No values to 0, and 2 for n/a results of no internet service\n",
    "    or no phone service,  Female to 1 and Male to 0 then turns encode columns into integers\"\"\"\n",
    "    df = df.replace({\"Yes\": 1,\n",
    "                          \"No\": 0,\n",
    "                           \"No internet service\": 2,\n",
    "                           \"No phone service\": 2\n",
    "    })\n",
    "    df = df.replace({\"Female\": 1,\n",
    "                           \"Male\": 0  \n",
    "    })\n",
    "    for c in df.columns:\n",
    "        if c == 'monthly_charges' or c== 'total_charges':\n",
    "            df[c] = df[c]\n",
    "        elif df[c].any() == 1:\n",
    "            df[c] = df[c].astype(int)\n",
    "    return df"
   ]
  },
  {
   "cell_type": "code",
   "execution_count": 13,
   "metadata": {},
   "outputs": [],
   "source": [
    "train = encode_all(train)"
   ]
  },
  {
   "cell_type": "code",
   "execution_count": 14,
   "metadata": {},
   "outputs": [
    {
     "name": "stdout",
     "output_type": "stream",
     "text": [
      "<class 'pandas.core.frame.DataFrame'>\n",
      "Int64Index: 4225 entries, 440 to 6958\n",
      "Data columns (total 24 columns):\n",
      "internet_service_type_id    4225 non-null int64\n",
      "payment_type_id             4225 non-null int64\n",
      "contract_type_id            4225 non-null int64\n",
      "customer_id                 4225 non-null object\n",
      "gender                      4225 non-null object\n",
      "senior_citizen              4225 non-null int64\n",
      "partner                     4225 non-null object\n",
      "dependents                  4225 non-null object\n",
      "tenure                      4225 non-null int64\n",
      "phone_service               4225 non-null object\n",
      "multiple_lines              4225 non-null object\n",
      "online_security             4225 non-null object\n",
      "online_backup               4225 non-null object\n",
      "device_protection           4225 non-null object\n",
      "tech_support                4225 non-null object\n",
      "streaming_tv                4225 non-null object\n",
      "streaming_movies            4225 non-null object\n",
      "paperless_billing           4225 non-null object\n",
      "monthly_charges             4225 non-null float64\n",
      "total_charges               4225 non-null float64\n",
      "churn                       4225 non-null object\n",
      "contract_type               4225 non-null object\n",
      "payment_type                4225 non-null object\n",
      "internet_service_type       4225 non-null object\n",
      "dtypes: float64(2), int64(5), object(17)\n",
      "memory usage: 825.2+ KB\n"
     ]
    }
   ],
   "source": [
    "train.info()"
   ]
  },
  {
   "cell_type": "code",
   "execution_count": 25,
   "metadata": {},
   "outputs": [
    {
     "data": {
      "text/plain": [
       "<matplotlib.axes._subplots.AxesSubplot at 0x12e0edf90>"
      ]
     },
     "execution_count": 25,
     "metadata": {},
     "output_type": "execute_result"
    },
    {
     "data": {
      "image/png": "[encoded data removed]",
      "text/plain": [
       "<Figure size 432x288 with 1 Axes>"
      ]
     },
     "metadata": {
      "needs_background": "light"
     },
     "output_type": "display_data"
    }
   ],
   "source": [
    "train.groupby(train.tenure // 12).is_churn.mean().plot()"
   ]
  },
  {
   "cell_type": "code",
   "execution_count": 23,
   "metadata": {},
   "outputs": [
    {
     "data": {
      "text/plain": [
       "<matplotlib.axes._subplots.AxesSubplot at 0x12d75eed0>"
      ]
     },
     "execution_count": 23,
     "metadata": {},
     "output_type": "execute_result"
    },
    {
     "data": {
      "image/png": "[encoded data removed]",
      "text/plain": [
       "<Figure size 432x288 with 1 Axes>"
      ]
     },
     "metadata": {
      "needs_background": "light"
     },
     "output_type": "display_data"
    }
   ],
   "source": [
    "train.groupby(train.tenure).is_churn.mean().plot()"
   ]
  },
  {
   "cell_type": "code",
   "execution_count": null,
   "metadata": {},
   "outputs": [],
   "source": []
  }
 ],
 "metadata": {
  "kernelspec": {
   "display_name": "Python 3",
   "language": "python",
   "name": "python3"
  },
  "language_info": {
   "codemirror_mode": {
    "name": "ipython",
    "version": 3
   },
   "file_extension": ".py",
   "mimetype": "text/x-python",
   "name": "python",
   "nbconvert_exporter": "python",
   "pygments_lexer": "ipython3",
   "version": "3.7.4"
  }
 },
 "nbformat": 4,
 "nbformat_minor": 2
}
